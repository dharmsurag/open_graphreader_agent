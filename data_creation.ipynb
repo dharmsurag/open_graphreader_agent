{
 "cells": [
  {
   "cell_type": "code",
   "execution_count": 2,
   "id": "a9ac2f9d",
   "metadata": {},
   "outputs": [],
   "source": [
    "import random\n",
    "import datetime\n",
    "import json"
   ]
  },
  {
   "cell_type": "code",
   "execution_count": 3,
   "id": "8778bc36",
   "metadata": {},
   "outputs": [],
   "source": [
    "# Expanded sample data for diversity\n",
    "conditions = [\"hypertension\", \"diabetes\", \"asthma\", \"arthritis\", \"migraine\", \"heart disease\", \"influenza\", \"gastritis\", \"anxiety\", \"eczema\"]\n",
    "medications = [\"aspirin\", \"metformin\", \"albuterol\", \"ibuprofen\", \"sumatriptan\", \"lisinopril\", \"prednisone\", \"atorvastatin\", \"sertraline\", \"omeprazole\"]\n",
    "activities = [\"exercises\", \"walks\", \"yoga\", \"swimming\", \"cycling\", \"meditation\", \"weightlifting\", \"running\", \"gardening\", \"pilates\"]\n",
    "symptoms = [\"pain\", \"fatigue\", \"dizziness\", \"nausea\", \"shortness of breath\", \"cough\", \"fever\", \"headache\", \"swelling\", \"insomnia\"]\n",
    "procedures = [\"surgery\", \"test\", \"checkup\", \"MRI\", \"biopsy\", \"X-ray\", \"blood test\", \"CT scan\", \"ultrasound\", \"consultation\"]\n",
    "avoidances = [\"sugar\", \"salt\", \"dairy\", \"gluten\", \"red meat\", \"alcohol\", \"caffeine\", \"processed foods\", \"nuts\", \"soy\"]\n",
    "moods = [\"stress\", \"sleep issues\", \"good mood\", \"anxiety\", \"depression\", \"relaxation\", \"irritability\", \"energy boost\"]"
   ]
  },
  {
   "cell_type": "code",
   "execution_count": 4,
   "id": "32e1767d",
   "metadata": {},
   "outputs": [],
   "source": [
    "# Generate dates from 2018 to 2025\n",
    "start_date = datetime.date(2018, 1, 1)\n",
    "end_date = datetime.date(2025, 6, 26)  # Today's date\n",
    "dates = [start_date + datetime.timedelta(days=random.randint(0, (end_date - start_date).days)) for _ in range(50)]"
   ]
  },
  {
   "cell_type": "code",
   "execution_count": 5,
   "id": "aa8b7c26",
   "metadata": {},
   "outputs": [],
   "source": [
    "def generate_patient_data(num_patients=50):\n",
    "    patients = {}\n",
    "    for i in range(1, num_patients + 1):\n",
    "        patient_id = f\"P{i:03d}\"\n",
    "        conversations = \" \".join([\n",
    "            f\"Patient discussed {random.choice(conditions)} on {random.choice(dates).strftime('%B %d, %Y')}\",\n",
    "            f\"Mentioned {random.choice(medications)} usage on {random.choice(dates).strftime('%B %d, %Y')}\"\n",
    "        ] + [\n",
    "            f\"Reported {random.choice(symptoms)} on {random.choice(dates).strftime('%B %d, %Y')}\" for _ in range(3)\n",
    "        ] + [\n",
    "            f\"Questioned about {random.choice(medications)} side effects on {random.choice(dates).strftime('%B %d, %Y')}\",\n",
    "            f\"Discussed {random.choice(procedures)} results on {random.choice(dates).strftime('%B %d, %Y')}\",\n",
    "            f\"Expressed concern over {random.choice(symptoms)} on {random.choice(dates).strftime('%B %d, %Y')}\"\n",
    "        ])\n",
    "       \n",
    "        history = \" \".join([\n",
    "            f\"Diagnosed with {random.choice(conditions)} on {random.choice(dates).strftime('%Y')}\",\n",
    "            f\"Prescribed {random.choice(medications)} since {random.choice(dates).strftime('%Y')}\"\n",
    "        ] + [\n",
    "            f\"Recorded {random.choice(procedures)} on {random.choice(dates).strftime('%B %d, %Y')}\" for _ in range(3)\n",
    "        ] + [\n",
    "            f\"Noted {random.choice(conditions)} progression on {random.choice(dates).strftime('%B %d, %Y')}\",\n",
    "            f\"Updated {random.choice(medications)} dosage on {random.choice(dates).strftime('%B %d, %Y')}\",\n",
    "            f\"Completed {random.choice(procedures)} follow-up on {random.choice(dates).strftime('%B %d, %Y')}\"\n",
    "        ])\n",
    "       \n",
    "        behavior = \" \".join([\n",
    "            f\"Patient {random.choice(activities)} {random.randint(1, 5)} times a week\",\n",
    "            f\"Avoids {random.choice(avoidances)}\"\n",
    "        ] + [\n",
    "            f\"Notes {random.choice(moods)} on {random.choice(dates).strftime('%B %d, %Y')}\" for _ in range(3)\n",
    "        ] + [\n",
    "            f\"Prefers {random.choice(activities)} over others on {random.choice(dates).strftime('%B %d, %Y')}\",\n",
    "            f\"Reports {random.randint(6, 10)} hours of sleep on {random.choice(dates).strftime('%B %d, %Y')}\",\n",
    "            f\"Maintains {random.choice(['low', 'moderate', 'high'])} activity level on {random.choice(dates).strftime('%B %d, %Y')}\"\n",
    "        ])\n",
    "       \n",
    "        patients[patient_id] = {\n",
    "            \"Conversations\": conversations,\n",
    "            \"History\": history,\n",
    "            \"Behavior\": behavior\n",
    "        }\n",
    "    return patients"
   ]
  },
  {
   "cell_type": "code",
   "execution_count": 6,
   "id": "46a16a2c",
   "metadata": {},
   "outputs": [
    {
     "name": "stdout",
     "output_type": "stream",
     "text": [
      "Generated diverse data for 50 patients and saved to diverse_patient_data.json\n"
     ]
    }
   ],
   "source": [
    "patient_data = generate_patient_data()\n",
    "with open(\"diverse_patient_data.json\", \"w\") as f:\n",
    "    json.dump(patient_data, f, indent=2)\n",
    "print(f\"Generated diverse data for {len(patient_data)} patients and saved to diverse_patient_data.json\")"
   ]
  }
 ],
 "metadata": {
  "kernelspec": {
   "display_name": "graphenv",
   "language": "python",
   "name": "python3"
  },
  "language_info": {
   "codemirror_mode": {
    "name": "ipython",
    "version": 3
   },
   "file_extension": ".py",
   "mimetype": "text/x-python",
   "name": "python",
   "nbconvert_exporter": "python",
   "pygments_lexer": "ipython3",
   "version": "3.12.10"
  }
 },
 "nbformat": 4,
 "nbformat_minor": 5
}
